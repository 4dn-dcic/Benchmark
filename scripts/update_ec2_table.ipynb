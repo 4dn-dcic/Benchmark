{
 "cells": [
  {
   "cell_type": "code",
   "execution_count": null,
   "id": "c03586bf",
   "metadata": {},
   "outputs": [],
   "source": [
    "import pandas as pd"
   ]
  },
  {
   "cell_type": "code",
   "execution_count": null,
   "id": "316aeeda",
   "metadata": {},
   "outputs": [],
   "source": [
    "# download up-to-date csv file from https://instances.vantage.sh/\n",
    "# filtering can be done before download, if preferable\n",
    "# either set path, or put csv in your working directory (sample names given)\n",
    "new_csv = \"Amazon EC2 Instance Comparison (1).csv\"\n",
    "df = pd.read_csv(new_csv)\n",
    "existing_csv = \"Amazon EC2 Instance Comparison.csv\"\n",
    "old_df = pd.read_csv(existing_csv)"
   ]
  },
  {
   "cell_type": "code",
   "execution_count": null,
   "id": "d52405c6",
   "metadata": {},
   "outputs": [],
   "source": [
    "# make sure it looks okay\n",
    "df.head()"
   ]
  },
  {
   "cell_type": "code",
   "execution_count": null,
   "id": "bb2b9ca2",
   "metadata": {},
   "outputs": [],
   "source": [
    "df = df.set_index('API Name')"
   ]
  },
  {
   "cell_type": "code",
   "execution_count": null,
   "id": "b651107d",
   "metadata": {},
   "outputs": [],
   "source": [
    "# the generation field is useful to identify current EC2s\n",
    "# but unnecessary once they have been removed\n",
    "df.drop(\"Generation\", axis=1, inplace=True)"
   ]
  },
  {
   "cell_type": "code",
   "execution_count": null,
   "id": "9f677fc2",
   "metadata": {},
   "outputs": [],
   "source": [
    "idx_lst = old_df[\"API Name\"].tolist()"
   ]
  },
  {
   "cell_type": "code",
   "execution_count": null,
   "id": "2846c79b",
   "metadata": {},
   "outputs": [],
   "source": [
    "# take the subset of EC2s which are present in old/exisiting table\n",
    "# this ensures the other fields for each EC2 are up-to-date\n",
    "new_df = df[df.index.isin(idx_lst)]"
   ]
  },
  {
   "cell_type": "code",
   "execution_count": null,
   "id": "1c371341",
   "metadata": {},
   "outputs": [],
   "source": [
    "idx_new = new_df.index.tolist()"
   ]
  },
  {
   "cell_type": "code",
   "execution_count": null,
   "id": "45b58ee1",
   "metadata": {},
   "outputs": [],
   "source": [
    "# see which entries will be removed\n",
    "set(idx_lst) - set(idx_new)"
   ]
  },
  {
   "cell_type": "code",
   "execution_count": null,
   "id": "f8411d3d",
   "metadata": {},
   "outputs": [],
   "source": [
    "# Test filter to observe entries to add\n",
    "# df.filter(like='r6i',axis=0)"
   ]
  },
  {
   "cell_type": "code",
   "execution_count": null,
   "id": "e8f02572",
   "metadata": {},
   "outputs": [],
   "source": [
    "# not efficient, but a non-issue for small sheets\n",
    "# use two search terms \"prefix\" and \"suffix\" of API Name\n",
    "add_list = ['r6i.', 'r6id.', 'r6a', 'c6a', 'c6i', 'm6i', 'm6a']\n",
    "keep = ['.large','.xlarge','2x','4x','8x','16x','32x']\n",
    "add = first_pass = df.filter(like='xyz', axis=0)\n",
    "for ec2 in add_list:\n",
    "    first_pass = df.filter(like=ec2,axis=0)\n",
    "    for size in keep:\n",
    "        add = pd.concat([add,first_pass.filter(like=size, axis=0)])\n",
    "print(len(set(add)))\n",
    "print(add)"
   ]
  },
  {
   "cell_type": "code",
   "execution_count": null,
   "id": "d68a560f",
   "metadata": {},
   "outputs": [],
   "source": [
    "# index should be reset to include Name field in output\n",
    "new_df = new_df.reset_index().set_index('Name')\n",
    "add = add.reset_index().set_index('Name')"
   ]
  },
  {
   "cell_type": "code",
   "execution_count": null,
   "id": "accbea22",
   "metadata": {},
   "outputs": [],
   "source": [
    "final_df = pd.concat([new_df,add])"
   ]
  },
  {
   "cell_type": "code",
   "execution_count": null,
   "id": "a0bfe0a8",
   "metadata": {},
   "outputs": [],
   "source": [
    "final_df.sort_values(by='Instance Memory',axis=0,inplace=True)"
   ]
  },
  {
   "cell_type": "code",
   "execution_count": null,
   "id": "3e9fc92a",
   "metadata": {},
   "outputs": [],
   "source": [
    "# check the output\n",
    "final_df.head(20)"
   ]
  },
  {
   "cell_type": "code",
   "execution_count": null,
   "id": "e927f04b",
   "metadata": {},
   "outputs": [],
   "source": [
    "# avoid overwriting the existing sheet\n",
    "final_df.to_csv(\"New Amazon EC2 Instance Comparison.csv\")"
   ]
  },
  {
   "cell_type": "code",
   "execution_count": null,
   "id": "f17ecba6",
   "metadata": {},
   "outputs": [],
   "source": []
  }
 ],
 "metadata": {
  "kernelspec": {
   "display_name": "Python 3 (ipykernel)",
   "language": "python",
   "name": "python3"
  },
  "language_info": {
   "codemirror_mode": {
    "name": "ipython",
    "version": 3
   },
   "file_extension": ".py",
   "mimetype": "text/x-python",
   "name": "python",
   "nbconvert_exporter": "python",
   "pygments_lexer": "ipython3",
   "version": "3.8.13"
  }
 },
 "nbformat": 4,
 "nbformat_minor": 5
}
